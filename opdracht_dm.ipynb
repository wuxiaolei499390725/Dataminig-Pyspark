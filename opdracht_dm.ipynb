{
 "cells": [
  {
   "cell_type": "code",
   "execution_count": null,
   "metadata": {
    "scrolled": true
   },
   "outputs": [],
   "source": [
    "import findspark\n",
    "findspark.init()\n",
    "\n",
    "import pyspark # only run after findspark.init()\n",
    "from pyspark import SparkConf, SparkContext\n",
    "conf = SparkConf().setAppName('datamining').setMaster('local')\n",
    "sc = SparkContext(conf=conf)\n",
    "from pyspark.sql import SQLContext\n",
    "sqlContext = SQLContext(sc)\n",
    "#andere imports\n",
    "import matplotlib.pyplot as plt\n",
    "from IPython.core.display import display, HTML\n",
    "import pyspark.sql.functions as func\n",
    "from pyspark.sql.functions import desc"
   ]
  },
  {
   "cell_type": "code",
   "execution_count": null,
   "metadata": {
    "scrolled": true
   },
   "outputs": [],
   "source": [
    "movie = sqlContext.read.format('com.databricks.spark.csv').options(header='true', inferschema='true').load('movies/movie.csv')\n",
    "users = sqlContext.read.format('com.databricks.spark.csv').options(sep=\";\", header='true', inferschema='true').load('users/users.csv')\n",
    "ratings_m = sqlContext.read.format('com.databricks.spark.csv').options(header='true', inferschema='true').load('movies/rating.csv')\n",
    "tags = sqlContext.read.format('com.databricks.spark.csv').options(header='true', inferschema='true').load('movies/tag.csv')\n",
    "books = sqlContext.read.format('com.databricks.spark.csv').options(header='true', inferschema='true').load('books/books.csv')\n",
    "ratings = sqlContext.read.format('com.databricks.spark.csv').options(header='true', inferschema='true').load('books/ratings.csv')\n",
    "book_tags = sqlContext.read.format('com.databricks.spark.csv').options(header='true', inferschema='true').load('books/book_tags.csv')\n",
    "tags_b = sqlContext.read.format('com.databricks.spark.csv').options(header='true', inferschema='true').load('books/tags.csv')\n",
    "to_read = sqlContext.read.format('com.databricks.spark.csv').options(header='true', inferschema='true').load('books/to_read.csv')"
   ]
  },
  {
   "cell_type": "code",
   "execution_count": null,
   "metadata": {
    "scrolled": true
   },
   "outputs": [],
   "source": [
    "display(HTML('<h1>De film dataset</h1>'))\n",
    "movie.toPandas().head()"
   ]
  },
  {
   "cell_type": "code",
   "execution_count": null,
   "metadata": {},
   "outputs": [],
   "source": [
    "ratings_m.show() # om te laten zien dat toPandas().head() iets mooier oogt."
   ]
  },
  {
   "cell_type": "code",
   "execution_count": null,
   "metadata": {},
   "outputs": [],
   "source": [
    "tags.toPandas().head()"
   ]
  },
  {
   "cell_type": "code",
   "execution_count": null,
   "metadata": {},
   "outputs": [],
   "source": [
    "display(HTML('<h1>De gebruikers dataset</h1>'))\n",
    "users.toPandas().head()"
   ]
  },
  {
   "cell_type": "code",
   "execution_count": null,
   "metadata": {},
   "outputs": [],
   "source": [
    "display(HTML('<h1>De boek dataset</h1>'))"
   ]
  },
  {
   "cell_type": "code",
   "execution_count": null,
   "metadata": {},
   "outputs": [],
   "source": [
    "books.toPandas().head()"
   ]
  },
  {
   "cell_type": "code",
   "execution_count": null,
   "metadata": {},
   "outputs": [],
   "source": [
    "book_tags.toPandas().head()"
   ]
  },
  {
   "cell_type": "code",
   "execution_count": null,
   "metadata": {},
   "outputs": [],
   "source": [
    "tags_b.toPandas().head()"
   ]
  },
  {
   "cell_type": "code",
   "execution_count": null,
   "metadata": {},
   "outputs": [],
   "source": [
    "to_read.toPandas().head()"
   ]
  },
  {
   "cell_type": "code",
   "execution_count": null,
   "metadata": {
    "scrolled": true
   },
   "outputs": [],
   "source": [
    "display(HTML('<h1>Rating data</h1>'))"
   ]
  },
  {
   "cell_type": "code",
   "execution_count": null,
   "metadata": {
    "scrolled": false
   },
   "outputs": [],
   "source": [
    "#aantal ratings per rating\n",
    "display(HTML('<h2>Frequentie van ratings'))\n",
    "movie_with_rating = ratings_m.select('movieId','rating')\n",
    "avgratingpermovie = movie_with_rating.groupBy('movieId').agg({\"rating\": \"mean\"})\n",
    "avgratingpermovie = avgratingpermovie.withColumnRenamed(\"avg(rating)\", \"rating\")\n",
    "pandas_df = avgratingpermovie.toPandas()\n",
    "pandas_df.hist(column='rating', figsize=(10,10))"
   ]
  },
  {
   "cell_type": "code",
   "execution_count": null,
   "metadata": {
    "scrolled": true
   },
   "outputs": [],
   "source": [
    "\n",
    "display(HTML('<h1>Movie data</h1>'))"
   ]
  },
  {
   "cell_type": "code",
   "execution_count": null,
   "metadata": {
    "scrolled": false
   },
   "outputs": [],
   "source": [
    "#meest gebruikt genres\n",
    "display(HTML('<h2>Meest voorkomende genres</h2>'))\n",
    "movies_p = movie.groupBy('genres').count().sort(desc(\"count\")).toPandas()\n",
    "movies_p[:20].plot(x='genres', y='count', kind='bar', figsize=(20,5))"
   ]
  },
  {
   "cell_type": "code",
   "execution_count": null,
   "metadata": {},
   "outputs": [],
   "source": [
    "#meest gebruikte tags bij films\n",
    "display(HTML('<h2>Meest gebruikte tags bij films</h2>'))\n",
    "tags_p = tags.groupBy('tag').count().sort(desc(\"count\")).toPandas()\n",
    "tags_p[:10].plot(x='tag', y='count', kind='bar', figsize=(20,5))"
   ]
  },
  {
   "cell_type": "code",
   "execution_count": null,
   "metadata": {},
   "outputs": [],
   "source": [
    "#avg rating per genre\n",
    "display(HTML('<h2>Gemiddelde rating per genre</h2>'))\n",
    "movie_with_genre = movie.select('movieId', 'genres')\n",
    "movie_with_rating = ratings_m.select('movieId','rating')\n",
    "avg_rating_per_movie = movie_with_rating.groupBy('movieId').agg({\"rating\": \"mean\"})\n",
    "avg_rating_per_movie = avg_rating_per_movie.withColumnRenamed(\"avg(rating)\", \"rating\")\n",
    "rating_per_genre = movie_with_genre.join(avg_rating_per_movie, movie_with_genre.movieId == avg_rating_per_movie.movieId, 'inner').select(movie_with_genre.genres, avg_rating_per_movie.rating)\n",
    "genre_rating = rating_per_genre.groupBy('genres').agg({\"rating\": \"mean\"})\n",
    "genre_rating = genre_rating.withColumnRenamed(\"avg(rating)\", \"rating\")\n",
    "genre_rating = genre_rating.withColumn(\"rating\", func.round(genre_rating[\"rating\"],1))\n",
    "sortedyears = genre_rating.orderBy(genre_rating.rating.desc())\n",
    "genre_rating.createOrReplaceTempView(\"genre_rating\");\n",
    "genre_rating = sqlContext.sql(\"select * from genre_rating where genres not like '%|%'\") #om het wat korter te maken want anders wordt de grafiek te groot\n",
    "genre_rating =  genre_rating.orderBy(genre_rating.rating.desc())\n",
    "pdf = genre_rating.toPandas()\n",
    "pdf[:20].plot(x='genres', y='rating', kind='bar', figsize=(20,5))\n",
    "plt.show()"
   ]
  },
  {
   "cell_type": "code",
   "execution_count": null,
   "metadata": {},
   "outputs": [],
   "source": [
    "#Meest populaire woorden in films\n",
    "display(HTML('<h2>Meest gebruikte woorden in titels</h2>'))\n",
    "from wordcloud import WordCloud, STOPWORDS\n",
    "import matplotlib.pyplot as plt\n",
    "movie.createOrReplaceTempView(\"movie\"); #werkt anders niet\n",
    "movie_title_words = sqlContext.sql(\"select title from movie\")\n",
    "stopwords = set(STOPWORDS)\n",
    "woorden = []\n",
    "for value in movie_title_words.collect():\n",
    "    for word in value:\n",
    "        woorden.append(word)\n",
    "    \n",
    "wordcloud = WordCloud(width=3000, height=3000,font_path ='C:/windows/Fonts/Arial.ttf',\n",
    "                          background_color='white',\n",
    "                          stopwords=stopwords,\n",
    "                          max_words=500,\n",
    "                          max_font_size=1000, \n",
    "                          random_state=42\n",
    "                         ).generate(str(woorden))\n",
    "fig = plt.figure(2)\n",
    "plt.figure(figsize=(230,70) )\n",
    "plt.imshow(wordcloud)\n",
    "plt.axis('off')\n",
    "plt.show()"
   ]
  },
  {
   "cell_type": "code",
   "execution_count": null,
   "metadata": {
    "scrolled": true
   },
   "outputs": [],
   "source": [
    "display(HTML('<h1>User data</h1>'))"
   ]
  },
  {
   "cell_type": "code",
   "execution_count": null,
   "metadata": {
    "scrolled": false
   },
   "outputs": [],
   "source": [
    "#users met de meeste rating\n",
    "display(HTML('<h2>Users met de meeste stemmen</h2>'))\n",
    "ratings_per_user = ratings_m.groupby(\"userId\").count().sort(desc(\"count\"))\n",
    "ratings_per_user.show()"
   ]
  },
  {
   "cell_type": "code",
   "execution_count": null,
   "metadata": {
    "scrolled": false
   },
   "outputs": [],
   "source": [
    "display(HTML('<h2>Accounts per geslacht</h2>'))\n",
    "users_by_gender = users.groupby('gender').count()\n",
    "users_by_gender.show()"
   ]
  },
  {
   "cell_type": "code",
   "execution_count": null,
   "metadata": {
    "scrolled": true
   },
   "outputs": [],
   "source": [
    "display(HTML('<h2>Stemmen per geslacht</h2>'))\n",
    "votes = ratings_m.join(users, [\"userId\"])\n",
    "votes_by_gender = votes.groupby('gender').count()\n",
    "votes_by_gender.show()"
   ]
  },
  {
   "cell_type": "code",
   "execution_count": null,
   "metadata": {
    "scrolled": false
   },
   "outputs": [],
   "source": [
    "display(HTML('<h2>Leeftijds indeling</h2>'))\n",
    "age_per_vote = users.groupby(\"age\").count().sort(desc(\"count\"))\n",
    "age_per_vote.toPandas().plot(x='age', y='count', kind='bar', figsize=(20,5))\n"
   ]
  },
  {
   "cell_type": "code",
   "execution_count": null,
   "metadata": {
    "scrolled": true
   },
   "outputs": [],
   "source": [
    "display(HTML('<h2>Stemverschil bij geslacht</h2>'))\n",
    "votes_dif = ratings_m.join(users, [\"userId\"])\n",
    "votes_dif = votes_dif.drop('timestamp')\n",
    "test = votes.groupBy('Gender').agg({\"rating\": \"mean\"})\n",
    "test.show()"
   ]
  },
  {
   "cell_type": "code",
   "execution_count": null,
   "metadata": {},
   "outputs": [],
   "source": [
    "#aantal stemmen per geslecht\n",
    "display(HTML('<h2>Stem per geslacht per genre</h2>'))\n",
    "import seaborn as sns\n",
    "%matplotlib inline\n",
    "from pyspark.sql.functions import col, size\n",
    "votes = ratings_m.join(users, [\"userId\"])\n",
    "votes = movie.join(votes, [\"movieId\"], \"inner\")\n",
    "votes.createOrReplaceTempView(\"votes\");\n",
    "votes = sqlContext.sql(\"select * from votes where genres not like '%|%'\") #om het wat korter te maken\n",
    "sns.set(rc={'figure.figsize':(30,30)})\n",
    "sns.countplot(y='genres', hue='Gender', data=votes.toPandas(), order = votes.toPandas()['genres'].value_counts().index)"
   ]
  },
  {
   "cell_type": "code",
   "execution_count": null,
   "metadata": {},
   "outputs": [],
   "source": [
    "#werk per geslacht\n",
    "import seaborn as sns\n",
    "%matplotlib inline\n",
    "from ipywidgets import widgets\n",
    "from IPython.display import display\n",
    "dta = users.toPandas()\n",
    "#sns.set_context(rc={\"figure.figsize\": (30, 30)})\n",
    "plt.figure(figsize=(14,9))\n",
    "sns.countplot(y='Gender', hue='Occupation', data=dta)"
   ]
  },
  {
   "cell_type": "code",
   "execution_count": null,
   "metadata": {},
   "outputs": [],
   "source": [
    "display(HTML('<h2>Gemiddelde per genre, per geslacht</h2>'))\n",
    "import pandas as pd\n",
    "ax = plt.gca()\n",
    "votes = ratings_m.join(users, [\"userId\"])\n",
    "avg_moviesRatings = ratings_m.groupby('movieId').mean()\n",
    "avg_moviesRatings = avg_moviesRatings.drop('avg(movieId)')\n",
    "avg_movies = votes.join(avg_moviesRatings, [\"movieId\"])\n",
    "avg_movies = avg_movies.drop('avg(userId)')\n",
    "avg_movies = avg_movies.join(movie, [\"movieId\"])\n",
    "avg_movies.createOrReplaceTempView(\"avg_movies\");\n",
    "avg_movies = sqlContext.sql(\"select * from avg_movies where genres not like '%|%'\") #om het wat korter te maken want anders wordt de grafiek te groot\n",
    "#male rates\n",
    "avg_movies_male = sqlContext.sql(\"select * from avg_movies where gender == 'M' \")\n",
    "avg_movies_male = avg_movies_male.select('genres','avg(rating)')\n",
    "avg_movies_male = avg_movies_male.withColumnRenamed(\"avg(rating)\", \"rating_m\")\n",
    "avg_movies_male = avg_movies_male.groupby('genres').mean()\n",
    "#f rates\n",
    "avg_movies_f = sqlContext.sql(\"select * from avg_movies where gender == 'F' \")\n",
    "avg_movies_f = avg_movies_f.select('genres','avg(rating)')\n",
    "avg_movies_f = avg_movies_f.withColumnRenamed(\"avg(rating)\", \"rating_f\")\n",
    "avg_movies_f = avg_movies_f.groupby('genres').mean()\n",
    "avg_movies_both = avg_movies_f.join(avg_movies_male, [\"genres\"]) #samenzetten op basis van genress\n",
    "#afronden\n",
    "avg_movies_both.withColumn(\"avg(rating_f)\", func.round(avg_movies_both[\"avg(rating_f)\"],1))\n",
    "avg_movies_both.withColumn(\"avg(rating_m)\", func.round(avg_movies_both[\"avg(rating_m)\"],1))\n",
    "avg_movies_both.createOrReplaceTempView(\"both\");\n",
    "data = sqlContext.sql(\"select * from both where genres not like '%|%'\") #om het wat korter te maken want anders wordt de grafiek te groot\n",
    "#graph\n",
    "avg_movies_pd = data.toPandas()\n",
    "avg_movies_pd.plot(x=\"genres\", y=\"avg(rating_f)\", kind=\"bar\", ax=ax, color=\"C1\", alpha=0.8,figsize=(20,10))\n",
    "avg_movies_pd.plot(x=\"genres\", y=\"avg(rating_m)\", kind=\"bar\", ax=ax, color=\"C5\", alpha=0.8,figsize=(20,10))"
   ]
  },
  {
   "cell_type": "code",
   "execution_count": null,
   "metadata": {},
   "outputs": [],
   "source": [
    "display(HTML('<h1>Verkennen van de boek dataset</h1>'))\n",
    "display(HTML('<h2>Gemiddelde rating per jaar</h2>'))\n",
    "bookwithyear = books.select('book_id', 'original_publication_year')\n",
    "bookwithrating = ratings.select('book_id','rating')\n",
    "avgratingperbook = bookwithrating.groupBy('book_id').agg({\"rating\": \"mean\"})\n",
    "avgratingperbook = avgratingperbook.withColumnRenamed(\"avg(rating)\", \"rating\")\n",
    "ratingperyear = bookwithyear.join(avgratingperbook, bookwithyear.book_id == avgratingperbook.book_id, 'inner').select(bookwithyear.original_publication_year, avgratingperbook.rating)\n",
    "filtered_df = ratingperyear.filter(ratingperyear.original_publication_year > 1900)\n",
    "year_rating = filtered_df.groupBy('original_publication_year').agg({\"rating\": \"mean\"})\n",
    "year_rating = year_rating.withColumnRenamed(\"avg(rating)\", \"rating\")\n",
    "year_rating = year_rating.withColumn(\"rating\", func.round(year_rating[\"rating\"],1))\n",
    "sortedyears = year_rating.orderBy(year_rating.original_publication_year.asc())\n",
    "pdf = sortedyears.toPandas()\n",
    "pdf.plot(x=\"original_publication_year\", y=\"rating\", figsize=(20,5))\n",
    "plt.show()"
   ]
  },
  {
   "cell_type": "code",
   "execution_count": null,
   "metadata": {
    "scrolled": false
   },
   "outputs": [],
   "source": [
    "display(HTML('<h2>Meest aangerade auteurs</h2>'))\n",
    "authorandbook = books.select('book_id', 'authors')\n",
    "authors_toread = authorandbook.join(to_read, authorandbook.book_id == to_read.book_id, 'inner').select(to_read.book_id, authorandbook.authors)\n",
    "bestauthors = authors_toread.groupby(\"authors\").count()\n",
    "bestauthors = bestauthors.withColumnRenamed(\"count\", \"times_recommended\")\n",
    "bestauthors = bestauthors.orderBy(bestauthors.times_recommended.desc())\n",
    "pandasDF = bestauthors.toPandas()\n",
    "pandasDF[:10].plot(x='authors', y='times_recommended', kind='bar', figsize=(20,5))"
   ]
  },
  {
   "cell_type": "code",
   "execution_count": null,
   "metadata": {
    "scrolled": false
   },
   "outputs": [],
   "source": [
    "display(HTML('<h2>Meest aangerade boek</h2>'))\n",
    "mostrecommended = to_read.groupby('book_id').count()\n",
    "mostrecommended = mostrecommended.withColumnRenamed(\"count\", \"times_recommended\")\n",
    "mostrecommended = mostrecommended.orderBy(mostrecommended.times_recommended.desc())\n",
    "bookswithtitle = books.select('book_id', 'title')\n",
    "bestbook_toread = mostrecommended.join(bookswithtitle, mostrecommended.book_id == bookswithtitle.book_id, 'inner').select(mostrecommended.times_recommended, bookswithtitle.title)\n",
    "pandasBook = bestbook_toread.toPandas()\n",
    "pandasBook[:10].plot(x='title', y='times_recommended', kind='bar', figsize=(20,5))"
   ]
  },
  {
   "cell_type": "code",
   "execution_count": null,
   "metadata": {},
   "outputs": [],
   "source": [
    "#vervuiling\n",
    "tags_b.orderBy(tags_b.tag_name.desc()).show()"
   ]
  },
  {
   "cell_type": "code",
   "execution_count": null,
   "metadata": {
    "scrolled": false
   },
   "outputs": [],
   "source": [
    "display(HTML('<h2>Meest gebruikte boektag</h2>'))\n",
    "tagwithcount = book_tags.select('tag_id', 'count')\n",
    "tagwithcount = tagwithcount.withColumnRenamed(\"count\", \"times_used\")\n",
    "mostused_tag = tagwithcount.join(tags_b, tagwithcount.tag_id == tags_b.tag_id, 'inner').select(tagwithcount.times_used, tags_b.tag_name)\n",
    "pandasTags = mostused_tag.toPandas()\n",
    "pandasTags[:10].plot(x='tag_name', y='times_used', kind='bar', figsize=(20,5))"
   ]
  },
  {
   "cell_type": "code",
   "execution_count": null,
   "metadata": {},
   "outputs": [],
   "source": [
    "moviesTitles = movie.drop('genres')\n",
    "moviesRatings = ratings_m.drop('userId')\n",
    "moviesRatings = moviesRatings.drop('timestamp')\n",
    "avg_moviesRatings = moviesRatings.groupby('movieId').mean()\n",
    "avg_moviesRatings = moviesRatings.drop('avg(movieId)')\n",
    "#avg_moviesRatings = avg_moviesRatings.withColumnRenamed(\"rating\", \"rating_movie\")\n",
    "avg_movies = moviesTitles.join(avg_moviesRatings, on='movieId', how='inner')\n",
    "\n",
    "avg_movies = avg_movies.drop('movieId')\n",
    "booksTitles = books.drop('book_id')\n",
    "avg_movies_split = pyspark.sql.functions.split(avg_movies['title'], '\\\\(')\n",
    "testSP = avg_movies\n",
    "testSP = testSP.withColumn('title', avg_movies_split.getItem(0))\n",
    "testBook = boksTitles.selectExpr(\"original_title as title\", \"average_rating as rating_book\")\n",
    "compare = testSP.join(testBook, [\"title\"])\n",
    "compare = compare.groupBy(\"title\").agg({\"rating\": \"avg\", \"rating_book\": \"avg\"})\n",
    "compare = compare.withColumn(\"avg(rating)\", func.round(compare[\"avg(rating)\"],1))\n",
    "compare = compare.withColumn(\"avg(rating_book)\", func.round(compare[\"avg(rating_book)\"],1))\n",
    "#compare.show()\n",
    "#graph\n",
    "ax = plt.gca()\n",
    "compare.toPandas()[:100].plot(x=\"title\", y=\"avg(rating)\", kind=\"bar\", ax=ax, color=\"Green\", alpha=0.8,figsize=(20,10))\n",
    "compare.toPandas()[:100].plot(x=\"title\", y=\"avg(rating_book)\", kind=\"bar\", ax=ax, color=\"Red\", alpha=0.8,figsize=(20,10))\n",
    "plt.show()"
   ]
  },
  {
   "cell_type": "code",
   "execution_count": null,
   "metadata": {
    "scrolled": true
   },
   "outputs": [],
   "source": []
  },
  {
   "cell_type": "code",
   "execution_count": null,
   "metadata": {},
   "outputs": [],
   "source": []
  }
 ],
 "metadata": {
  "kernelspec": {
   "display_name": "Python 3",
   "language": "python",
   "name": "python3"
  },
  "language_info": {
   "codemirror_mode": {
    "name": "ipython",
    "version": 3
   },
   "file_extension": ".py",
   "mimetype": "text/x-python",
   "name": "python",
   "nbconvert_exporter": "python",
   "pygments_lexer": "ipython3",
   "version": "3.6.6"
  }
 },
 "nbformat": 4,
 "nbformat_minor": 2
}
